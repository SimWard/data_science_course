{
 "cells": [
  {
   "cell_type": "code",
   "execution_count": 19,
   "id": "indian-albert",
   "metadata": {},
   "outputs": [
    {
     "data": {
      "text/html": [
       "<div>\n",
       "<style scoped>\n",
       "    .dataframe tbody tr th:only-of-type {\n",
       "        vertical-align: middle;\n",
       "    }\n",
       "\n",
       "    .dataframe tbody tr th {\n",
       "        vertical-align: top;\n",
       "    }\n",
       "\n",
       "    .dataframe thead th {\n",
       "        text-align: right;\n",
       "    }\n",
       "</style>\n",
       "<table border=\"1\" class=\"dataframe\">\n",
       "  <thead>\n",
       "    <tr style=\"text-align: right;\">\n",
       "      <th></th>\n",
       "      <th>weight</th>\n",
       "      <th>feed</th>\n",
       "    </tr>\n",
       "  </thead>\n",
       "  <tbody>\n",
       "    <tr>\n",
       "      <th>0</th>\n",
       "      <td>179</td>\n",
       "      <td>horsebean</td>\n",
       "    </tr>\n",
       "    <tr>\n",
       "      <th>1</th>\n",
       "      <td>160</td>\n",
       "      <td>horsebean</td>\n",
       "    </tr>\n",
       "    <tr>\n",
       "      <th>2</th>\n",
       "      <td>136</td>\n",
       "      <td>horsebean</td>\n",
       "    </tr>\n",
       "    <tr>\n",
       "      <th>3</th>\n",
       "      <td>227</td>\n",
       "      <td>horsebean</td>\n",
       "    </tr>\n",
       "    <tr>\n",
       "      <th>4</th>\n",
       "      <td>217</td>\n",
       "      <td>horsebean</td>\n",
       "    </tr>\n",
       "    <tr>\n",
       "      <th>...</th>\n",
       "      <td>...</td>\n",
       "      <td>...</td>\n",
       "    </tr>\n",
       "    <tr>\n",
       "      <th>66</th>\n",
       "      <td>359</td>\n",
       "      <td>casein</td>\n",
       "    </tr>\n",
       "    <tr>\n",
       "      <th>67</th>\n",
       "      <td>216</td>\n",
       "      <td>casein</td>\n",
       "    </tr>\n",
       "    <tr>\n",
       "      <th>68</th>\n",
       "      <td>222</td>\n",
       "      <td>casein</td>\n",
       "    </tr>\n",
       "    <tr>\n",
       "      <th>69</th>\n",
       "      <td>283</td>\n",
       "      <td>casein</td>\n",
       "    </tr>\n",
       "    <tr>\n",
       "      <th>70</th>\n",
       "      <td>332</td>\n",
       "      <td>casein</td>\n",
       "    </tr>\n",
       "  </tbody>\n",
       "</table>\n",
       "<p>71 rows × 2 columns</p>\n",
       "</div>"
      ],
      "text/plain": [
       "    weight       feed\n",
       "0      179  horsebean\n",
       "1      160  horsebean\n",
       "2      136  horsebean\n",
       "3      227  horsebean\n",
       "4      217  horsebean\n",
       "..     ...        ...\n",
       "66     359     casein\n",
       "67     216     casein\n",
       "68     222     casein\n",
       "69     283     casein\n",
       "70     332     casein\n",
       "\n",
       "[71 rows x 2 columns]"
      ]
     },
     "execution_count": 19,
     "metadata": {},
     "output_type": "execute_result"
    }
   ],
   "source": [
    "import pandas as pd\n",
    "import seaborn as sns\n",
    "import matplotlib.pyplot as plt\n",
    "\n",
    "from scipy import stats\n",
    "\n",
    "chickwts = pd.read_csv('chickwts.csv')\n",
    "chickwts"
   ]
  },
  {
   "cell_type": "code",
   "execution_count": 2,
   "id": "hybrid-carnival",
   "metadata": {},
   "outputs": [
    {
     "data": {
      "text/plain": [
       "<AxesSubplot:xlabel='feed', ylabel='weight'>"
      ]
     },
     "execution_count": 2,
     "metadata": {},
     "output_type": "execute_result"
    },
    {
     "data": {
      "image/png": "[encoded data removed]",
      "text/plain": [
       "<Figure size 432x288 with 1 Axes>"
      ]
     },
     "metadata": {
      "needs_background": "light"
     },
     "output_type": "display_data"
    }
   ],
   "source": [
    "sns.boxplot(y='weight', x='feed', data=chickwts)"
   ]
  },
  {
   "cell_type": "markdown",
   "id": "offensive-audit",
   "metadata": {},
   "source": [
    "## 1-sample t-test"
   ]
  },
  {
   "cell_type": "markdown",
   "id": "weekly-arthur",
   "metadata": {},
   "source": [
    "**Null and Alternative Hypothesis**  \n",
    "\n",
    "$H_{0}: \\mu_{soybean} = 300$  \n",
    "$H_{1}: \\mu_{soybean} \\neq 300$"
   ]
  },
  {
   "cell_type": "code",
   "execution_count": 14,
   "id": "crude-ferry",
   "metadata": {},
   "outputs": [],
   "source": []
  },
  {
   "cell_type": "code",
   "execution_count": 20,
   "id": "quality-cycling",
   "metadata": {},
   "outputs": [
    {
     "data": {
      "text/plain": [
       "<AxesSubplot:xlabel='weight'>"
      ]
     },
     "execution_count": 20,
     "metadata": {},
     "output_type": "execute_result"
    },
    {
     "data": {
      "image/png": "[encoded data removed]",
      "text/plain": [
       "<Figure size 432x288 with 1 Axes>"
      ]
     },
     "metadata": {
      "needs_background": "light"
     },
     "output_type": "display_data"
    }
   ],
   "source": [
    "soybean_chickwts = chickwts.loc[chickwts.loc[:, 'feed'] == 'soybean', 'weight']\n",
    "\n",
    "sns.boxplot(x=soybean_chickwts)"
   ]
  },
  {
   "cell_type": "code",
   "execution_count": 51,
   "id": "recorded-norman",
   "metadata": {},
   "outputs": [
    {
     "data": {
      "text/plain": [
       "Ttest_1sampResult(statistic=-3.70311068385518, pvalue=0.0026542575657835608)"
      ]
     },
     "execution_count": 51,
     "metadata": {},
     "output_type": "execute_result"
    }
   ],
   "source": [
    "stats.ttest_1samp(a=soybean_chickwts, popmean=300)"
   ]
  },
  {
   "cell_type": "markdown",
   "id": "legal-patient",
   "metadata": {},
   "source": [
    "The p-value is less than 5%, so we can reject the null hypothesis in favour of the alternative."
   ]
  },
  {
   "cell_type": "markdown",
   "id": "editorial-georgia",
   "metadata": {},
   "source": [
    "## 2 sample t-test"
   ]
  },
  {
   "cell_type": "code",
   "execution_count": 33,
   "id": "phantom-economics",
   "metadata": {},
   "outputs": [
    {
     "data": {
      "text/plain": [
       "<AxesSubplot:xlabel='feed', ylabel='weight'>"
      ]
     },
     "execution_count": 33,
     "metadata": {},
     "output_type": "execute_result"
    },
    {
     "data": {
      "image/png": "[encoded data removed]",
      "text/plain": [
       "<Figure size 432x288 with 1 Axes>"
      ]
     },
     "metadata": {
      "needs_background": "light"
     },
     "output_type": "display_data"
    }
   ],
   "source": [
    "sns.boxplot(y='weight', x='feed', data=chickwts[chickwts['feed'].isin(['soybean', 'meatmeal'])])"
   ]
  },
  {
   "cell_type": "markdown",
   "id": "respiratory-ebony",
   "metadata": {},
   "source": [
    "**Null and Alternative Hypothesis**  \n",
    "\n",
    "$H_{0}: \\mu_{soybean} = \\mu_{meatmeal}$  \n",
    "$H_{1}: \\mu_{soybean} \\neq \\mu_{meatmeal}$"
   ]
  },
  {
   "cell_type": "code",
   "execution_count": 55,
   "id": "potential-quality",
   "metadata": {},
   "outputs": [
    {
     "data": {
      "text/plain": [
       "Ttest_indResult(statistic=-2.377260681187378, pvalue=0.02702312877489196)"
      ]
     },
     "execution_count": 55,
     "metadata": {},
     "output_type": "execute_result"
    }
   ],
   "source": [
    "stats.ttest_ind(\n",
    "            a=chickwts.loc[chickwts.loc[:, 'feed'] == 'linseed', 'weight'],\n",
    "            b=chickwts.loc[chickwts.loc[:, 'feed'] == 'meatmeal', 'weight'],\n",
    "            equal_var=True\n",
    "    )"
   ]
  },
  {
   "cell_type": "markdown",
   "id": "continuing-monster",
   "metadata": {},
   "source": [
    "The p-value is less than 5%, so we can reject the null hypothesis in favour of the alternative."
   ]
  },
  {
   "cell_type": "code",
   "execution_count": null,
   "id": "loved-wireless",
   "metadata": {},
   "outputs": [],
   "source": []
  },
  {
   "cell_type": "markdown",
   "id": "racial-distributor",
   "metadata": {},
   "source": [
    "**One-way ANOVA**  \n",
    "$H_{0}: \\mu_{horsebean} = \\mu_{linseed} = \\ldots = \\mu_{casein}$  \n",
    "$H_{1}: \\text{Means are not all equal.}$"
   ]
  },
  {
   "cell_type": "code",
   "execution_count": 63,
   "id": "steady-parks",
   "metadata": {},
   "outputs": [
    {
     "data": {
      "text/plain": [
       "F_onewayResult(statistic=15.364799774712534, pvalue=5.936419853471331e-10)"
      ]
     },
     "execution_count": 63,
     "metadata": {},
     "output_type": "execute_result"
    }
   ],
   "source": [
    "groups = []\n",
    "for i in chickwts.feed.unique():\n",
    "    groups.append(chickwts.loc[chickwts.loc[:, 'feed'] == i, 'weight'])\n",
    "\n",
    "stats.f_oneway(*groups)"
   ]
  },
  {
   "cell_type": "markdown",
   "id": "tested-scholarship",
   "metadata": {},
   "source": [
    "Therefore probability that all group means are actually the same is extremely small.  \n",
    "We can reject the null hypothesis and accept the alternative hypothesis."
   ]
  }
 ],
 "metadata": {
  "kernelspec": {
   "display_name": "Python 3",
   "language": "python",
   "name": "python3"
  },
  "language_info": {
   "codemirror_mode": {
    "name": "ipython",
    "version": 3
   },
   "file_extension": ".py",
   "mimetype": "text/x-python",
   "name": "python",
   "nbconvert_exporter": "python",
   "pygments_lexer": "ipython3",
   "version": "3.9.2"
  }
 },
 "nbformat": 4,
 "nbformat_minor": 5
}
