{
 "cells": [
  {
   "cell_type": "code",
   "execution_count": 4,
   "metadata": {},
   "outputs": [
    {
     "data": {
      "text/html": [
       "<div>\n",
       "<style scoped>\n",
       "    .dataframe tbody tr th:only-of-type {\n",
       "        vertical-align: middle;\n",
       "    }\n",
       "\n",
       "    .dataframe tbody tr th {\n",
       "        vertical-align: top;\n",
       "    }\n",
       "\n",
       "    .dataframe thead th {\n",
       "        text-align: right;\n",
       "    }\n",
       "</style>\n",
       "<table border=\"1\" class=\"dataframe\">\n",
       "  <thead>\n",
       "    <tr style=\"text-align: right;\">\n",
       "      <th></th>\n",
       "      <th>x</th>\n",
       "    </tr>\n",
       "  </thead>\n",
       "  <tbody>\n",
       "    <tr>\n",
       "      <th>1959-01-31</th>\n",
       "      <td>315.42</td>\n",
       "    </tr>\n",
       "    <tr>\n",
       "      <th>1959-02-28</th>\n",
       "      <td>316.31</td>\n",
       "    </tr>\n",
       "    <tr>\n",
       "      <th>1959-03-31</th>\n",
       "      <td>316.50</td>\n",
       "    </tr>\n",
       "    <tr>\n",
       "      <th>1959-04-30</th>\n",
       "      <td>317.56</td>\n",
       "    </tr>\n",
       "    <tr>\n",
       "      <th>1959-05-31</th>\n",
       "      <td>318.13</td>\n",
       "    </tr>\n",
       "    <tr>\n",
       "      <th>...</th>\n",
       "      <td>...</td>\n",
       "    </tr>\n",
       "    <tr>\n",
       "      <th>1997-08-31</th>\n",
       "      <td>362.57</td>\n",
       "    </tr>\n",
       "    <tr>\n",
       "      <th>1997-09-30</th>\n",
       "      <td>360.24</td>\n",
       "    </tr>\n",
       "    <tr>\n",
       "      <th>1997-10-31</th>\n",
       "      <td>360.83</td>\n",
       "    </tr>\n",
       "    <tr>\n",
       "      <th>1997-11-30</th>\n",
       "      <td>362.49</td>\n",
       "    </tr>\n",
       "    <tr>\n",
       "      <th>1997-12-31</th>\n",
       "      <td>364.34</td>\n",
       "    </tr>\n",
       "  </tbody>\n",
       "</table>\n",
       "<p>468 rows × 1 columns</p>\n",
       "</div>"
      ],
      "text/plain": [
       "                 x\n",
       "1959-01-31  315.42\n",
       "1959-02-28  316.31\n",
       "1959-03-31  316.50\n",
       "1959-04-30  317.56\n",
       "1959-05-31  318.13\n",
       "...            ...\n",
       "1997-08-31  362.57\n",
       "1997-09-30  360.24\n",
       "1997-10-31  360.83\n",
       "1997-11-30  362.49\n",
       "1997-12-31  364.34\n",
       "\n",
       "[468 rows x 1 columns]"
      ]
     },
     "execution_count": 4,
     "metadata": {},
     "output_type": "execute_result"
    }
   ],
   "source": [
    "import pandas as pd\n",
    "from statsmodels.tsa.statespace.sarimax import SARIMAX\n",
    "\n",
    "co2 = pd.read_csv(\"./co2.csv\")\n",
    "co2.index = pd.date_range('1-1-1959', periods=co2.shape[0], freq='M')\n",
    "co2"
   ]
  },
  {
   "cell_type": "code",
   "execution_count": 5,
   "metadata": {},
   "outputs": [],
   "source": [
    "train = co2.iloc[:co2.shape[0]-12]\n",
    "test = co2.iloc[co2.shape[0]-12:]"
   ]
  },
  {
   "cell_type": "code",
   "execution_count": 12,
   "metadata": {},
   "outputs": [],
   "source": [
    "model = SARIMAX(train, order=(1,1,1), seasonal_order=(1,1,2,12))"
   ]
  },
  {
   "cell_type": "code",
   "execution_count": 16,
   "metadata": {},
   "outputs": [],
   "source": [
    "res = model.fit(disp=False)\n",
    "#print(res.summary())"
   ]
  },
  {
   "cell_type": "code",
   "execution_count": 17,
   "metadata": {},
   "outputs": [],
   "source": [
    "prediction = res.predict(start=test.index[0], end=test.index[-1])"
   ]
  },
  {
   "cell_type": "code",
   "execution_count": 18,
   "metadata": {},
   "outputs": [
    {
     "data": {
      "image/png": "[encoded data removed]",
      "text/plain": [
       "<Figure size 432x288 with 1 Axes>"
      ]
     },
     "metadata": {
      "needs_background": "light"
     },
     "output_type": "display_data"
    }
   ],
   "source": [
    "pd.concat([train[-10:], test, prediction], axis=1).plot();"
   ]
  }
 ],
 "metadata": {
  "kernelspec": {
   "display_name": "Python 3",
   "language": "python",
   "name": "python3"
  },
  "language_info": {
   "codemirror_mode": {
    "name": "ipython",
    "version": 3
   },
   "file_extension": ".py",
   "mimetype": "text/x-python",
   "name": "python",
   "nbconvert_exporter": "python",
   "pygments_lexer": "ipython3",
   "version": "3.9.2"
  }
 },
 "nbformat": 4,
 "nbformat_minor": 4
}
