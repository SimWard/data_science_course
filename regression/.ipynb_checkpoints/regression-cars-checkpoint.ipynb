{
 "cells": [
  {
   "cell_type": "code",
   "execution_count": 54,
   "metadata": {},
   "outputs": [],
   "source": [
    "import pandas as pd\n",
    "import numpy as np\n",
    "import seaborn as sns\n",
    "import matplotlib.pyplot as plt\n",
    "\n",
    "from sklearn.model_selection import train_test_split\n",
    "from sklearn import metrics\n",
    "from sklearn import linear_model\n",
    "from sklearn import neighbors\n",
    "from sklearn import svm\n",
    "from sklearn import ensemble"
   ]
  },
  {
   "cell_type": "code",
   "execution_count": 2,
   "metadata": {},
   "outputs": [],
   "source": [
    "cars = pd.read_csv('auto-mpg.csv')"
   ]
  },
  {
   "cell_type": "code",
   "execution_count": 3,
   "metadata": {},
   "outputs": [
    {
     "data": {
      "text/html": [
       "<div>\n",
       "<style scoped>\n",
       "    .dataframe tbody tr th:only-of-type {\n",
       "        vertical-align: middle;\n",
       "    }\n",
       "\n",
       "    .dataframe tbody tr th {\n",
       "        vertical-align: top;\n",
       "    }\n",
       "\n",
       "    .dataframe thead th {\n",
       "        text-align: right;\n",
       "    }\n",
       "</style>\n",
       "<table border=\"1\" class=\"dataframe\">\n",
       "  <thead>\n",
       "    <tr style=\"text-align: right;\">\n",
       "      <th></th>\n",
       "      <th>mpg</th>\n",
       "      <th>cylinders</th>\n",
       "      <th>displacement</th>\n",
       "      <th>horsepower</th>\n",
       "      <th>weight</th>\n",
       "      <th>acceleration</th>\n",
       "      <th>model year</th>\n",
       "      <th>origin</th>\n",
       "      <th>car name</th>\n",
       "    </tr>\n",
       "  </thead>\n",
       "  <tbody>\n",
       "    <tr>\n",
       "      <th>0</th>\n",
       "      <td>18.0</td>\n",
       "      <td>8</td>\n",
       "      <td>307.0</td>\n",
       "      <td>130</td>\n",
       "      <td>3504</td>\n",
       "      <td>12.0</td>\n",
       "      <td>70</td>\n",
       "      <td>1</td>\n",
       "      <td>chevrolet chevelle malibu</td>\n",
       "    </tr>\n",
       "    <tr>\n",
       "      <th>1</th>\n",
       "      <td>15.0</td>\n",
       "      <td>8</td>\n",
       "      <td>350.0</td>\n",
       "      <td>165</td>\n",
       "      <td>3693</td>\n",
       "      <td>11.5</td>\n",
       "      <td>70</td>\n",
       "      <td>1</td>\n",
       "      <td>buick skylark 320</td>\n",
       "    </tr>\n",
       "    <tr>\n",
       "      <th>2</th>\n",
       "      <td>18.0</td>\n",
       "      <td>8</td>\n",
       "      <td>318.0</td>\n",
       "      <td>150</td>\n",
       "      <td>3436</td>\n",
       "      <td>11.0</td>\n",
       "      <td>70</td>\n",
       "      <td>1</td>\n",
       "      <td>plymouth satellite</td>\n",
       "    </tr>\n",
       "    <tr>\n",
       "      <th>3</th>\n",
       "      <td>16.0</td>\n",
       "      <td>8</td>\n",
       "      <td>304.0</td>\n",
       "      <td>150</td>\n",
       "      <td>3433</td>\n",
       "      <td>12.0</td>\n",
       "      <td>70</td>\n",
       "      <td>1</td>\n",
       "      <td>amc rebel sst</td>\n",
       "    </tr>\n",
       "    <tr>\n",
       "      <th>4</th>\n",
       "      <td>17.0</td>\n",
       "      <td>8</td>\n",
       "      <td>302.0</td>\n",
       "      <td>140</td>\n",
       "      <td>3449</td>\n",
       "      <td>10.5</td>\n",
       "      <td>70</td>\n",
       "      <td>1</td>\n",
       "      <td>ford torino</td>\n",
       "    </tr>\n",
       "  </tbody>\n",
       "</table>\n",
       "</div>"
      ],
      "text/plain": [
       "    mpg  cylinders  displacement horsepower  weight  acceleration  model year  \\\n",
       "0  18.0          8         307.0        130    3504          12.0          70   \n",
       "1  15.0          8         350.0        165    3693          11.5          70   \n",
       "2  18.0          8         318.0        150    3436          11.0          70   \n",
       "3  16.0          8         304.0        150    3433          12.0          70   \n",
       "4  17.0          8         302.0        140    3449          10.5          70   \n",
       "\n",
       "   origin                   car name  \n",
       "0       1  chevrolet chevelle malibu  \n",
       "1       1          buick skylark 320  \n",
       "2       1         plymouth satellite  \n",
       "3       1              amc rebel sst  \n",
       "4       1                ford torino  "
      ]
     },
     "execution_count": 3,
     "metadata": {},
     "output_type": "execute_result"
    }
   ],
   "source": [
    "cars.head()"
   ]
  },
  {
   "cell_type": "code",
   "execution_count": 4,
   "metadata": {},
   "outputs": [
    {
     "data": {
      "text/plain": [
       "(398, 9)"
      ]
     },
     "execution_count": 4,
     "metadata": {},
     "output_type": "execute_result"
    }
   ],
   "source": [
    "cars.shape"
   ]
  },
  {
   "cell_type": "code",
   "execution_count": 5,
   "metadata": {},
   "outputs": [
    {
     "name": "stdout",
     "output_type": "stream",
     "text": [
      "<class 'pandas.core.frame.DataFrame'>\n",
      "RangeIndex: 398 entries, 0 to 397\n",
      "Data columns (total 9 columns):\n",
      " #   Column        Non-Null Count  Dtype  \n",
      "---  ------        --------------  -----  \n",
      " 0   mpg           398 non-null    float64\n",
      " 1   cylinders     398 non-null    int64  \n",
      " 2   displacement  398 non-null    float64\n",
      " 3   horsepower    398 non-null    object \n",
      " 4   weight        398 non-null    int64  \n",
      " 5   acceleration  398 non-null    float64\n",
      " 6   model year    398 non-null    int64  \n",
      " 7   origin        398 non-null    int64  \n",
      " 8   car name      398 non-null    object \n",
      "dtypes: float64(3), int64(4), object(2)\n",
      "memory usage: 28.1+ KB\n"
     ]
    }
   ],
   "source": [
    "cars.info()"
   ]
  },
  {
   "cell_type": "code",
   "execution_count": 6,
   "metadata": {},
   "outputs": [],
   "source": [
    "cars['horsepower'] = cars['horsepower'].replace(\"?\", np.nan).astype(float)\n",
    "\n",
    "# Missing values will fail later\n",
    "cars = cars.dropna()"
   ]
  },
  {
   "cell_type": "code",
   "execution_count": 7,
   "metadata": {},
   "outputs": [],
   "source": [
    "# Labelling as type categorical for origin\n",
    "cars['origin'] = cars['origin'].astype('category')"
   ]
  },
  {
   "cell_type": "code",
   "execution_count": null,
   "metadata": {},
   "outputs": [],
   "source": [
    "cars['']"
   ]
  },
  {
   "cell_type": "code",
   "execution_count": 8,
   "metadata": {},
   "outputs": [],
   "source": [
    "# Removing car name as it isn't going to work with the regression\n",
    "cars = cars.drop(columns='car name')"
   ]
  },
  {
   "cell_type": "code",
   "execution_count": 9,
   "metadata": {},
   "outputs": [
    {
     "data": {
      "text/plain": [
       "(392, 8)"
      ]
     },
     "execution_count": 9,
     "metadata": {},
     "output_type": "execute_result"
    }
   ],
   "source": [
    "cars.shape"
   ]
  },
  {
   "cell_type": "code",
   "execution_count": 10,
   "metadata": {},
   "outputs": [
    {
     "name": "stdout",
     "output_type": "stream",
     "text": [
      "<class 'pandas.core.frame.DataFrame'>\n",
      "Int64Index: 392 entries, 0 to 397\n",
      "Data columns (total 8 columns):\n",
      " #   Column        Non-Null Count  Dtype   \n",
      "---  ------        --------------  -----   \n",
      " 0   mpg           392 non-null    float64 \n",
      " 1   cylinders     392 non-null    int64   \n",
      " 2   displacement  392 non-null    float64 \n",
      " 3   horsepower    392 non-null    float64 \n",
      " 4   weight        392 non-null    int64   \n",
      " 5   acceleration  392 non-null    float64 \n",
      " 6   model year    392 non-null    int64   \n",
      " 7   origin        392 non-null    category\n",
      "dtypes: category(1), float64(4), int64(3)\n",
      "memory usage: 25.0 KB\n"
     ]
    }
   ],
   "source": [
    "cars.info()"
   ]
  },
  {
   "cell_type": "code",
   "execution_count": 32,
   "metadata": {},
   "outputs": [
    {
     "data": {
      "text/plain": [
       "True"
      ]
     },
     "execution_count": 32,
     "metadata": {},
     "output_type": "execute_result"
    }
   ],
   "source": [
    "hasattr(cars['origin'], 'cat')"
   ]
  },
  {
   "cell_type": "code",
   "execution_count": 56,
   "metadata": {},
   "outputs": [],
   "source": [
    "def prepare_data(df, target_column, test_size=0.3, random_state=42):\n",
    "    # This assumes all other columns except target_column is features\n",
    "    \n",
    "    features = [i for i in df.columns if i != target_column]\n",
    "    \n",
    "    X = df[features]\n",
    "    y = df[target_column]\n",
    "    \n",
    "    for col in X.columns:\n",
    "        if hasattr(X[col], 'cat'):\n",
    "            X = (\n",
    "                X\n",
    "                .merge(pd.get_dummies(X[col], prefix=\"origin\", drop_first=True), right_index=True, left_index=True, how=\"inner\")\n",
    "                .drop(columns=col)\n",
    "                )  \n",
    "    \n",
    "    X_train, X_test, y_train, y_test = train_test_split(X, y, \n",
    "                                                        test_size=test_size, \n",
    "                                                        random_state=random_state)\n",
    "    \n",
    "    return X_train, X_test, y_train, y_test\n",
    "\n",
    "def train_model(X_train, y_train, model):\n",
    "    return model.fit(X_train, y_train)\n",
    "\n",
    "def produce_model_predictions(fitted_model, X_test, y_test):\n",
    "    prediction = fitted_model.predict(X_test)\n",
    "    comparison = pd.DataFrame({\n",
    "                               \"prediction\": prediction,\n",
    "                               \"actual\": y_test\n",
    "                             })\n",
    "    return comparison\n",
    "\n",
    "def return_model_mse(df):\n",
    "    mse = metrics.mean_squared_error(df['actual'], df['prediction'])\n",
    "    return mse"
   ]
  },
  {
   "cell_type": "code",
   "execution_count": 51,
   "metadata": {},
   "outputs": [],
   "source": [
    "X_train, X_test, y_train, y_test = prepare_data(cars, 'mpg', test_size=0.3, random_state=42)"
   ]
  },
  {
   "cell_type": "code",
   "execution_count": 57,
   "metadata": {},
   "outputs": [
    {
     "data": {
      "image/png": "[encoded data removed]",
      "text/plain": [
       "<Figure size 432x288 with 1 Axes>"
      ]
     },
     "metadata": {},
     "output_type": "display_data"
    },
    {
     "data": {
      "image/png": "[encoded data removed]",
      "text/plain": [
       "<Figure size 432x288 with 1 Axes>"
      ]
     },
     "metadata": {},
     "output_type": "display_data"
    },
    {
     "data": {
      "image/png": "[encoded data removed]",
      "text/plain": [
       "<Figure size 432x288 with 1 Axes>"
      ]
     },
     "metadata": {},
     "output_type": "display_data"
    },
    {
     "data": {
      "image/png": "[encoded data removed]",
      "text/plain": [
       "<Figure size 432x288 with 1 Axes>"
      ]
     },
     "metadata": {},
     "output_type": "display_data"
    }
   ],
   "source": [
    "models = {'OLS': linear_model.LinearRegression(), \n",
    "          'K Neighbours': neighbors.KNeighborsRegressor(), \n",
    "          'SVR': svm.SVR(),\n",
    "          'Random Forest': ensemble.RandomForestRegressor()\n",
    "         }\n",
    "\n",
    "mse_dict = {}\n",
    "\n",
    "for m in models.keys():\n",
    "    train_model(X_train, y_train, models[m])\n",
    "    fitted_model = models[m].fit(X_train, y_train)\n",
    "    comparison = produce_model_predictions(fitted_model, X_test, y_test)\n",
    "    \n",
    "    ax = sns.scatterplot(y='prediction', x='actual', data=comparison)\n",
    "    ax.plot([0, 1], [0, 1], ':', transform=ax.transAxes)\n",
    "    plt.title(m)\n",
    "    plt.show()\n",
    "    \n",
    "    mse = return_model_mse(comparison)\n",
    "    mse_dict[m] = mse"
   ]
  },
  {
   "cell_type": "code",
   "execution_count": 58,
   "metadata": {},
   "outputs": [
    {
     "data": {
      "text/plain": [
       "Text(0.5, 1.0, 'Root square MSE by regression model')"
      ]
     },
     "execution_count": 58,
     "metadata": {},
     "output_type": "execute_result"
    },
    {
     "data": {
      "image/png": "[encoded data removed]",
      "text/plain": [
       "<Figure size 432x288 with 1 Axes>"
      ]
     },
     "metadata": {},
     "output_type": "display_data"
    }
   ],
   "source": [
    "labels = [i for i in mse_dict.keys()]\n",
    "values = [mse_dict[l]**0.5 for l in labels]\n",
    "\n",
    "\n",
    "sns.barplot(x=values, y=labels)\n",
    "plt.title('Root square MSE by regression model')"
   ]
  },
  {
   "cell_type": "code",
   "execution_count": 64,
   "metadata": {},
   "outputs": [
    {
     "data": {
      "text/plain": [
       "{'K Neighbours': 18.6895593220339,\n",
       " 'OLS': 10.344169215429346,\n",
       " 'Random Forest': 17.845376951285896,\n",
       " 'SVR': 52.63112760826144}"
      ]
     },
     "execution_count": 64,
     "metadata": {},
     "output_type": "execute_result"
    }
   ],
   "source": [
    "mse_dict"
   ]
  },
  {
   "cell_type": "code",
   "execution_count": 78,
   "metadata": {},
   "outputs": [
    {
     "data": {
      "text/plain": [
       "{2: 21.341355932203395,\n",
       " 6: 18.538813559322033,\n",
       " 10: 18.047306779661014,\n",
       " 14: 17.819368298166726,\n",
       " 18: 17.171573550952083,\n",
       " 22: 16.96660316570948,\n",
       " 26: 16.916534951358944,\n",
       " 30: 16.868846233521655,\n",
       " 34: 17.114721277344433,\n",
       " 38: 17.442051974271088,\n",
       " 42: 17.344629789769012,\n",
       " 46: 17.62967339239371,\n",
       " 50: 17.741267661016956,\n",
       " 54: 17.576681953453768,\n",
       " 58: 17.567606259698902,\n",
       " 62: 17.455960841461046,\n",
       " 66: 17.28962625095329,\n",
       " 70: 17.15528727084054,\n",
       " 74: 17.09273620792116,\n",
       " 78: 17.3826828497086,\n",
       " 82: 17.460529862672548,\n",
       " 86: 17.601763516238737,\n",
       " 90: 17.84133201506592,\n",
       " 94: 17.870080362691915,\n",
       " 98: 17.755731298399677}"
      ]
     },
     "execution_count": 78,
     "metadata": {},
     "output_type": "execute_result"
    }
   ],
   "source": [
    "mse_dict"
   ]
  },
  {
   "cell_type": "code",
   "execution_count": null,
   "metadata": {},
   "outputs": [],
   "source": []
  },
  {
   "cell_type": "code",
   "execution_count": 118,
   "metadata": {},
   "outputs": [
    {
     "data": {
      "text/plain": [
       "Text(0.5, 1.0, 'Root square MSE by n_neighbors\\n The minimum n is 31')"
      ]
     },
     "execution_count": 118,
     "metadata": {},
     "output_type": "execute_result"
    },
    {
     "data": {
      "image/png": "[encoded data removed]",
      "text/plain": [
       "<Figure size 432x288 with 1 Axes>"
      ]
     },
     "metadata": {},
     "output_type": "display_data"
    }
   ],
   "source": [
    "X_train, X_test, y_train, y_test = prepare_data(cars, 'mpg')\n",
    "mse_dict = {}\n",
    "\n",
    "for i in range(2,100, 1):\n",
    "    knn_reg = neighbors.KNeighborsRegressor(n_neighbors=i)\n",
    "    fitted_model = knn_reg.fit(X_train, y_train)\n",
    "    comparison = produce_model_predictions(fitted_model, X_test, y_test)\n",
    "    \n",
    "#     ax = sns.scatterplot(y='prediction', x='actual', data=comparison)\n",
    "#     ax.plot([0, 1], [0, 1], ':', transform=ax.transAxes)\n",
    "#     plt.title(f\"n_neighbours = {i}\")\n",
    "#     plt.show()\n",
    "    \n",
    "    mse = return_model_mse(comparison)\n",
    "    mse_dict[i] = mse\n",
    "\n",
    "labels = [i for i in mse_dict.keys() if i%10]\n",
    "values = [mse_dict[l] for l in labels]\n",
    "sns.barplot(x=labels, y=values)\n",
    "plt.title(f'Root square MSE by n_neighbors\\n The minimum n is {min(mse_dict, key=mse_dict.get)}')"
   ]
  },
  {
   "cell_type": "code",
   "execution_count": null,
   "metadata": {},
   "outputs": [],
   "source": [
    "\n"
   ]
  },
  {
   "cell_type": "code",
   "execution_count": 106,
   "metadata": {},
   "outputs": [
    {
     "data": {
      "text/plain": [
       "42"
      ]
     },
     "execution_count": 106,
     "metadata": {},
     "output_type": "execute_result"
    }
   ],
   "source": [
    "min(mse_dict, key=mse_dict.get)"
   ]
  }
 ],
 "metadata": {
  "kernelspec": {
   "display_name": "Python 3",
   "language": "python",
   "name": "python3"
  },
  "language_info": {
   "codemirror_mode": {
    "name": "ipython",
    "version": 3
   },
   "file_extension": ".py",
   "mimetype": "text/x-python",
   "name": "python",
   "nbconvert_exporter": "python",
   "pygments_lexer": "ipython3",
   "version": "3.6.7"
  }
 },
 "nbformat": 4,
 "nbformat_minor": 4
}
